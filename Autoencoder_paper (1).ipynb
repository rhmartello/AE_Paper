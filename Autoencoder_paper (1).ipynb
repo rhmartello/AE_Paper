{
  "nbformat": 4,
  "nbformat_minor": 0,
  "metadata": {
    "colab": {
      "name": "Autoencoder_paper.ipynb",
      "provenance": [],
      "collapsed_sections": [
        "mS58GYPho60k",
        "re8AFqRRfmhH",
        "AJZXL2C6bt7N"
      ]
    },
    "kernelspec": {
      "name": "python3",
      "display_name": "Python 3"
    },
    "language_info": {
      "name": "python"
    }
  },
  "cells": [
    {
      "cell_type": "markdown",
      "metadata": {
        "id": "OOeRApIKZzn-"
      },
      "source": [
        "# Dataset and preprocessing:"
      ]
    },
    {
      "cell_type": "code",
      "metadata": {
        "id": "QaURBAi2m3k6"
      },
      "source": [
        "%matplotlib inline\n",
        "import matplotlib.pyplot as plt\n",
        "import seaborn as sns\n",
        "\n",
        "\n",
        "import pandas as pd\n",
        "import numpy as np\n",
        "from pylab import rcParams\n",
        "\n",
        "import tensorflow as tf\n",
        "from keras.models import Model, load_model\n",
        "from keras.layers import Input, Dense\n",
        "from keras.callbacks import ModelCheckpoint, TensorBoard\n",
        "from keras import regularizers\n",
        "\n",
        "#import sklearn as skl\n",
        "from sklearn.preprocessing import StandardScaler\n",
        "from sklearn.model_selection import train_test_split\n",
        "from sklearn.metrics import confusion_matrix, precision_recall_curve\n",
        "from sklearn.metrics import recall_score, classification_report, auc, roc_curve\n",
        "from sklearn.metrics import precision_recall_fscore_support, f1_score\n",
        "\n",
        "from numpy.random import seed\n",
        "seed(1)\n",
        "\n",
        "tf.compat.v1.set_random_seed(2)\n",
        "\n",
        "SEED = 123 #used to help randomly select the data points\n",
        "DATA_SPLIT_PCT = 0.2\n",
        "\n",
        "rcParams['figure.figsize'] = 8, 6\n",
        "LABELS = [\"Normal\",\"Break\"]\n",
        "\n",
        "%matplotlib inline\n",
        "import matplotlib.pyplot as plt\n",
        "import seaborn as sns\n",
        "\n",
        "\n",
        "import pandas as pd\n",
        "import numpy as np\n",
        "from pylab import rcParams\n",
        "\n",
        "import tensorflow as tf\n",
        "from keras.models import Model, load_model\n",
        "from keras.layers import Input, Dense\n",
        "from keras.callbacks import ModelCheckpoint, TensorBoard\n",
        "from keras import regularizers\n",
        "\n",
        "#import sklearn as skl\n",
        "from sklearn.preprocessing import StandardScaler\n",
        "from sklearn.model_selection import train_test_split\n",
        "from sklearn.metrics import confusion_matrix, precision_recall_curve\n",
        "from sklearn.metrics import recall_score, classification_report, auc, roc_curve\n",
        "from sklearn.metrics import precision_recall_fscore_support, f1_score\n",
        "\n",
        "from numpy.random import seed\n",
        "seed(1)\n",
        "\n",
        "tf.compat.v1.set_random_seed(1)\n",
        "\n",
        "SEED = 123 #used to help randomly select the data points\n",
        "DATA_SPLIT_PCT = 0.2\n",
        "\n",
        "rcParams['figure.figsize'] = 8, 6\n",
        "LABELS = [\"Normal\",\"Break\"]\n",
        "\n",
        "\n",
        "import torch\n",
        "import torchvision\n",
        "import torch.nn as nn\n",
        "import matplotlib\n",
        "import matplotlib.pyplot as plt\n",
        "import torchvision.transforms as transforms\n",
        "import torch.nn.functional as F\n",
        "import torch.optim as optim\n",
        "import os\n",
        "import time\n",
        "import numpy as np\n",
        "import argparse\n",
        "\n",
        "torch.manual_seed(13)\n",
        "\n",
        "from tqdm import tqdm\n",
        "from torchvision import datasets\n",
        "from torch.utils.data import DataLoader\n",
        "from torchvision.utils import save_image\n",
        "\n",
        "matplotlib.style.use('ggplot')\n",
        "\n",
        "import easydict\n",
        "import torch.nn as nn\n"
      ],
      "execution_count": 2,
      "outputs": []
    },
    {
      "cell_type": "code",
      "metadata": {
        "colab": {
          "base_uri": "https://localhost:8080/",
          "height": 312
        },
        "id": "4Ts7BYh8m3lD",
        "outputId": "b8034dca-6b5c-4a64-a6ef-2fbc16ca408c"
      },
      "source": [
        "\n",
        "df = pd.read_csv(\"processminer-rare-event-mts - data.csv\") \n",
        "df.head(n=5)  "
      ],
      "execution_count": 3,
      "outputs": [
        {
          "output_type": "execute_result",
          "data": {
            "text/html": [
              "<div>\n",
              "<style scoped>\n",
              "    .dataframe tbody tr th:only-of-type {\n",
              "        vertical-align: middle;\n",
              "    }\n",
              "\n",
              "    .dataframe tbody tr th {\n",
              "        vertical-align: top;\n",
              "    }\n",
              "\n",
              "    .dataframe thead th {\n",
              "        text-align: right;\n",
              "    }\n",
              "</style>\n",
              "<table border=\"1\" class=\"dataframe\">\n",
              "  <thead>\n",
              "    <tr style=\"text-align: right;\">\n",
              "      <th></th>\n",
              "      <th>time</th>\n",
              "      <th>y</th>\n",
              "      <th>x1</th>\n",
              "      <th>x2</th>\n",
              "      <th>x3</th>\n",
              "      <th>x4</th>\n",
              "      <th>x5</th>\n",
              "      <th>x6</th>\n",
              "      <th>x7</th>\n",
              "      <th>x8</th>\n",
              "      <th>x9</th>\n",
              "      <th>x10</th>\n",
              "      <th>x11</th>\n",
              "      <th>x12</th>\n",
              "      <th>x13</th>\n",
              "      <th>x14</th>\n",
              "      <th>x15</th>\n",
              "      <th>x16</th>\n",
              "      <th>x17</th>\n",
              "      <th>x18</th>\n",
              "      <th>x19</th>\n",
              "      <th>x20</th>\n",
              "      <th>x21</th>\n",
              "      <th>x22</th>\n",
              "      <th>x23</th>\n",
              "      <th>x24</th>\n",
              "      <th>x25</th>\n",
              "      <th>x26</th>\n",
              "      <th>x27</th>\n",
              "      <th>x28</th>\n",
              "      <th>x29</th>\n",
              "      <th>x30</th>\n",
              "      <th>x31</th>\n",
              "      <th>x32</th>\n",
              "      <th>x33</th>\n",
              "      <th>x34</th>\n",
              "      <th>x35</th>\n",
              "      <th>x36</th>\n",
              "      <th>x37</th>\n",
              "      <th>x38</th>\n",
              "      <th>x39</th>\n",
              "      <th>x40</th>\n",
              "      <th>x41</th>\n",
              "      <th>x42</th>\n",
              "      <th>x43</th>\n",
              "      <th>x44</th>\n",
              "      <th>x45</th>\n",
              "      <th>x46</th>\n",
              "      <th>x47</th>\n",
              "      <th>x48</th>\n",
              "      <th>x49</th>\n",
              "      <th>x50</th>\n",
              "      <th>x51</th>\n",
              "      <th>x52</th>\n",
              "      <th>x53</th>\n",
              "      <th>x54</th>\n",
              "      <th>x55</th>\n",
              "      <th>x56</th>\n",
              "      <th>x57</th>\n",
              "      <th>x58</th>\n",
              "      <th>x59</th>\n",
              "      <th>x60</th>\n",
              "      <th>x61</th>\n",
              "    </tr>\n",
              "  </thead>\n",
              "  <tbody>\n",
              "    <tr>\n",
              "      <th>0</th>\n",
              "      <td>5/1/99 0:00</td>\n",
              "      <td>0</td>\n",
              "      <td>0.376665</td>\n",
              "      <td>-4.596435</td>\n",
              "      <td>-4.095756</td>\n",
              "      <td>13.497687</td>\n",
              "      <td>-0.118830</td>\n",
              "      <td>-20.669883</td>\n",
              "      <td>0.000732</td>\n",
              "      <td>-0.061114</td>\n",
              "      <td>-0.059966</td>\n",
              "      <td>-0.038189</td>\n",
              "      <td>0.877951</td>\n",
              "      <td>-0.052959</td>\n",
              "      <td>-13.306135</td>\n",
              "      <td>0.101068</td>\n",
              "      <td>0.041800</td>\n",
              "      <td>0.199901</td>\n",
              "      <td>-2.327329</td>\n",
              "      <td>-0.944167</td>\n",
              "      <td>3.075199</td>\n",
              "      <td>0.123154</td>\n",
              "      <td>-0.104334</td>\n",
              "      <td>-0.570710</td>\n",
              "      <td>-9.784456</td>\n",
              "      <td>0.355960</td>\n",
              "      <td>15.842819</td>\n",
              "      <td>-0.451973</td>\n",
              "      <td>-0.105282</td>\n",
              "      <td>96</td>\n",
              "      <td>-134.27786</td>\n",
              "      <td>0.058726</td>\n",
              "      <td>-0.021645</td>\n",
              "      <td>9.366755</td>\n",
              "      <td>0.002151</td>\n",
              "      <td>-69.187583</td>\n",
              "      <td>4.232571</td>\n",
              "      <td>-0.225267</td>\n",
              "      <td>-0.196872</td>\n",
              "      <td>-0.072449</td>\n",
              "      <td>-0.103732</td>\n",
              "      <td>-0.720746</td>\n",
              "      <td>-5.412436</td>\n",
              "      <td>76.679042</td>\n",
              "      <td>-0.632727</td>\n",
              "      <td>1351.63286</td>\n",
              "      <td>-0.657095</td>\n",
              "      <td>-0.434947</td>\n",
              "      <td>-108.77597</td>\n",
              "      <td>0.084856</td>\n",
              "      <td>10.210182</td>\n",
              "      <td>11.295155</td>\n",
              "      <td>29.984624</td>\n",
              "      <td>10.091721</td>\n",
              "      <td>0.053279</td>\n",
              "      <td>-4.936434</td>\n",
              "      <td>-24.590146</td>\n",
              "      <td>18.515436</td>\n",
              "      <td>3.473400</td>\n",
              "      <td>0.033444</td>\n",
              "      <td>0.953219</td>\n",
              "      <td>0.006076</td>\n",
              "      <td>0</td>\n",
              "    </tr>\n",
              "    <tr>\n",
              "      <th>1</th>\n",
              "      <td>5/1/99 0:02</td>\n",
              "      <td>0</td>\n",
              "      <td>0.475720</td>\n",
              "      <td>-4.542502</td>\n",
              "      <td>-4.018359</td>\n",
              "      <td>16.230659</td>\n",
              "      <td>-0.128733</td>\n",
              "      <td>-18.758079</td>\n",
              "      <td>0.000732</td>\n",
              "      <td>-0.061114</td>\n",
              "      <td>-0.059966</td>\n",
              "      <td>-0.038189</td>\n",
              "      <td>0.873273</td>\n",
              "      <td>-0.014244</td>\n",
              "      <td>-13.306135</td>\n",
              "      <td>0.101108</td>\n",
              "      <td>0.041447</td>\n",
              "      <td>0.304313</td>\n",
              "      <td>-2.340627</td>\n",
              "      <td>-0.939994</td>\n",
              "      <td>3.075199</td>\n",
              "      <td>0.123154</td>\n",
              "      <td>-0.104334</td>\n",
              "      <td>-0.574861</td>\n",
              "      <td>-9.784456</td>\n",
              "      <td>0.360160</td>\n",
              "      <td>16.491684</td>\n",
              "      <td>-0.450451</td>\n",
              "      <td>-0.092430</td>\n",
              "      <td>96</td>\n",
              "      <td>-134.48019</td>\n",
              "      <td>0.058759</td>\n",
              "      <td>-0.004579</td>\n",
              "      <td>9.350215</td>\n",
              "      <td>0.002149</td>\n",
              "      <td>-68.585197</td>\n",
              "      <td>4.311490</td>\n",
              "      <td>-0.225267</td>\n",
              "      <td>-0.196872</td>\n",
              "      <td>-0.059103</td>\n",
              "      <td>-0.083895</td>\n",
              "      <td>-0.720746</td>\n",
              "      <td>-8.343222</td>\n",
              "      <td>78.181598</td>\n",
              "      <td>-0.632727</td>\n",
              "      <td>1370.37895</td>\n",
              "      <td>-0.875629</td>\n",
              "      <td>-1.125819</td>\n",
              "      <td>-108.84897</td>\n",
              "      <td>0.085146</td>\n",
              "      <td>12.534340</td>\n",
              "      <td>11.290761</td>\n",
              "      <td>29.984624</td>\n",
              "      <td>10.095871</td>\n",
              "      <td>0.062801</td>\n",
              "      <td>-4.937179</td>\n",
              "      <td>-32.413266</td>\n",
              "      <td>22.760065</td>\n",
              "      <td>2.682933</td>\n",
              "      <td>0.033536</td>\n",
              "      <td>1.090502</td>\n",
              "      <td>0.006083</td>\n",
              "      <td>0</td>\n",
              "    </tr>\n",
              "    <tr>\n",
              "      <th>2</th>\n",
              "      <td>5/1/99 0:04</td>\n",
              "      <td>0</td>\n",
              "      <td>0.363848</td>\n",
              "      <td>-4.681394</td>\n",
              "      <td>-4.353147</td>\n",
              "      <td>14.127998</td>\n",
              "      <td>-0.138636</td>\n",
              "      <td>-17.836632</td>\n",
              "      <td>0.010803</td>\n",
              "      <td>-0.061114</td>\n",
              "      <td>-0.030057</td>\n",
              "      <td>-0.018352</td>\n",
              "      <td>1.004910</td>\n",
              "      <td>0.065150</td>\n",
              "      <td>-9.619596</td>\n",
              "      <td>0.101148</td>\n",
              "      <td>0.041095</td>\n",
              "      <td>0.252839</td>\n",
              "      <td>-2.353925</td>\n",
              "      <td>-0.935824</td>\n",
              "      <td>3.075199</td>\n",
              "      <td>0.123154</td>\n",
              "      <td>-0.104334</td>\n",
              "      <td>-0.579013</td>\n",
              "      <td>-9.784456</td>\n",
              "      <td>0.364356</td>\n",
              "      <td>15.972885</td>\n",
              "      <td>-0.448927</td>\n",
              "      <td>-0.097144</td>\n",
              "      <td>96</td>\n",
              "      <td>-133.94659</td>\n",
              "      <td>0.058791</td>\n",
              "      <td>-0.084658</td>\n",
              "      <td>9.037409</td>\n",
              "      <td>0.002148</td>\n",
              "      <td>-67.838187</td>\n",
              "      <td>4.809914</td>\n",
              "      <td>-0.225267</td>\n",
              "      <td>-0.186801</td>\n",
              "      <td>-0.048696</td>\n",
              "      <td>-0.073823</td>\n",
              "      <td>-0.720746</td>\n",
              "      <td>-1.085166</td>\n",
              "      <td>79.684154</td>\n",
              "      <td>-0.632727</td>\n",
              "      <td>1368.12309</td>\n",
              "      <td>-0.037775</td>\n",
              "      <td>-0.519541</td>\n",
              "      <td>-109.08658</td>\n",
              "      <td>0.085436</td>\n",
              "      <td>18.582893</td>\n",
              "      <td>11.286366</td>\n",
              "      <td>29.984624</td>\n",
              "      <td>10.100265</td>\n",
              "      <td>0.072322</td>\n",
              "      <td>-4.937924</td>\n",
              "      <td>-34.183774</td>\n",
              "      <td>27.004663</td>\n",
              "      <td>3.537487</td>\n",
              "      <td>0.033629</td>\n",
              "      <td>1.840540</td>\n",
              "      <td>0.006090</td>\n",
              "      <td>0</td>\n",
              "    </tr>\n",
              "    <tr>\n",
              "      <th>3</th>\n",
              "      <td>5/1/99 0:06</td>\n",
              "      <td>0</td>\n",
              "      <td>0.301590</td>\n",
              "      <td>-4.758934</td>\n",
              "      <td>-4.023612</td>\n",
              "      <td>13.161567</td>\n",
              "      <td>-0.148142</td>\n",
              "      <td>-18.517601</td>\n",
              "      <td>0.002075</td>\n",
              "      <td>-0.061114</td>\n",
              "      <td>-0.019986</td>\n",
              "      <td>-0.008280</td>\n",
              "      <td>0.930037</td>\n",
              "      <td>-0.067199</td>\n",
              "      <td>-15.196531</td>\n",
              "      <td>0.101188</td>\n",
              "      <td>0.040742</td>\n",
              "      <td>0.072873</td>\n",
              "      <td>-2.367223</td>\n",
              "      <td>-0.931651</td>\n",
              "      <td>3.075199</td>\n",
              "      <td>0.123154</td>\n",
              "      <td>-0.104334</td>\n",
              "      <td>-0.583165</td>\n",
              "      <td>-9.784456</td>\n",
              "      <td>0.368556</td>\n",
              "      <td>15.608688</td>\n",
              "      <td>-0.447404</td>\n",
              "      <td>-0.160073</td>\n",
              "      <td>96</td>\n",
              "      <td>-134.00259</td>\n",
              "      <td>0.058824</td>\n",
              "      <td>-0.055118</td>\n",
              "      <td>9.020625</td>\n",
              "      <td>0.002146</td>\n",
              "      <td>-67.091148</td>\n",
              "      <td>5.308343</td>\n",
              "      <td>-0.225267</td>\n",
              "      <td>-0.186801</td>\n",
              "      <td>-0.047017</td>\n",
              "      <td>-0.063752</td>\n",
              "      <td>-0.720746</td>\n",
              "      <td>6.172891</td>\n",
              "      <td>81.186702</td>\n",
              "      <td>-0.632727</td>\n",
              "      <td>1365.69145</td>\n",
              "      <td>-0.987410</td>\n",
              "      <td>0.674524</td>\n",
              "      <td>-109.56277</td>\n",
              "      <td>0.085726</td>\n",
              "      <td>17.719032</td>\n",
              "      <td>11.281972</td>\n",
              "      <td>29.984624</td>\n",
              "      <td>10.104660</td>\n",
              "      <td>0.081600</td>\n",
              "      <td>-4.938669</td>\n",
              "      <td>-35.954281</td>\n",
              "      <td>21.672449</td>\n",
              "      <td>3.986095</td>\n",
              "      <td>0.033721</td>\n",
              "      <td>2.554880</td>\n",
              "      <td>0.006097</td>\n",
              "      <td>0</td>\n",
              "    </tr>\n",
              "    <tr>\n",
              "      <th>4</th>\n",
              "      <td>5/1/99 0:08</td>\n",
              "      <td>0</td>\n",
              "      <td>0.265578</td>\n",
              "      <td>-4.749928</td>\n",
              "      <td>-4.333150</td>\n",
              "      <td>15.267340</td>\n",
              "      <td>-0.155314</td>\n",
              "      <td>-17.505913</td>\n",
              "      <td>0.000732</td>\n",
              "      <td>-0.061114</td>\n",
              "      <td>-0.030057</td>\n",
              "      <td>-0.008280</td>\n",
              "      <td>0.828410</td>\n",
              "      <td>-0.018472</td>\n",
              "      <td>-14.609266</td>\n",
              "      <td>0.101229</td>\n",
              "      <td>0.040390</td>\n",
              "      <td>0.171033</td>\n",
              "      <td>-2.380521</td>\n",
              "      <td>-0.927478</td>\n",
              "      <td>3.075199</td>\n",
              "      <td>0.123154</td>\n",
              "      <td>-0.104334</td>\n",
              "      <td>-0.587316</td>\n",
              "      <td>-9.784456</td>\n",
              "      <td>0.372756</td>\n",
              "      <td>15.606125</td>\n",
              "      <td>-0.445879</td>\n",
              "      <td>-0.131630</td>\n",
              "      <td>96</td>\n",
              "      <td>-133.14571</td>\n",
              "      <td>0.058856</td>\n",
              "      <td>-0.153851</td>\n",
              "      <td>9.344233</td>\n",
              "      <td>0.002145</td>\n",
              "      <td>-65.991813</td>\n",
              "      <td>5.806771</td>\n",
              "      <td>-0.225267</td>\n",
              "      <td>-0.186801</td>\n",
              "      <td>-0.057088</td>\n",
              "      <td>-0.063752</td>\n",
              "      <td>-0.720746</td>\n",
              "      <td>-3.379599</td>\n",
              "      <td>82.689258</td>\n",
              "      <td>-0.632727</td>\n",
              "      <td>1363.25786</td>\n",
              "      <td>-0.238445</td>\n",
              "      <td>-0.063044</td>\n",
              "      <td>-110.03891</td>\n",
              "      <td>0.086016</td>\n",
              "      <td>16.855202</td>\n",
              "      <td>11.277577</td>\n",
              "      <td>29.984624</td>\n",
              "      <td>10.109054</td>\n",
              "      <td>0.091121</td>\n",
              "      <td>-4.939414</td>\n",
              "      <td>-37.724789</td>\n",
              "      <td>21.907251</td>\n",
              "      <td>3.601573</td>\n",
              "      <td>0.033777</td>\n",
              "      <td>1.410494</td>\n",
              "      <td>0.006105</td>\n",
              "      <td>0</td>\n",
              "    </tr>\n",
              "  </tbody>\n",
              "</table>\n",
              "</div>"
            ],
            "text/plain": [
              "          time  y        x1        x2  ...       x58       x59       x60  x61\n",
              "0  5/1/99 0:00  0  0.376665 -4.596435  ...  0.033444  0.953219  0.006076    0\n",
              "1  5/1/99 0:02  0  0.475720 -4.542502  ...  0.033536  1.090502  0.006083    0\n",
              "2  5/1/99 0:04  0  0.363848 -4.681394  ...  0.033629  1.840540  0.006090    0\n",
              "3  5/1/99 0:06  0  0.301590 -4.758934  ...  0.033721  2.554880  0.006097    0\n",
              "4  5/1/99 0:08  0  0.265578 -4.749928  ...  0.033777  1.410494  0.006105    0\n",
              "\n",
              "[5 rows x 63 columns]"
            ]
          },
          "metadata": {
            "tags": []
          },
          "execution_count": 3
        }
      ]
    },
    {
      "cell_type": "code",
      "metadata": {
        "id": "WEU-g9eTm3lM"
      },
      "source": [
        "sign = lambda x: (1, -1)[x < 0]\n",
        "\n",
        "def curve_shift(df, shift_by):\n",
        "    '''\n",
        "    This function will shift the binary labels in a dataframe.\n",
        "    The curve shift will be with respect to the 1s. \n",
        "    For example, if shift is -2, the following process\n",
        "    will happen: if row n is labeled as 1, then\n",
        "    - Make row (n+shift_by):(n+shift_by-1) = 1.\n",
        "    - Remove row n.\n",
        "    i.e. the labels will be shifted up to 2 rows up.\n",
        "    \n",
        "    Inputs:\n",
        "    df       A pandas dataframe with a binary labeled column. \n",
        "             This labeled column should be named as 'y'.\n",
        "    shift_by An integer denoting the number of rows to shift.\n",
        "    \n",
        "    Output\n",
        "    df       A dataframe with the binary labels shifted by shift.\n",
        "    '''\n",
        "\n",
        "    vector = df['y'].copy()\n",
        "    for s in range(abs(shift_by)):\n",
        "        tmp = vector.shift(sign(shift_by))\n",
        "        tmp = tmp.fillna(0)\n",
        "        vector += tmp\n",
        "    labelcol = 'y'\n",
        "    # Add vector to the df\n",
        "    df.insert(loc=0, column=labelcol+'tmp', value=vector)\n",
        "    # Remove the rows with labelcol == 1.\n",
        "    df = df.drop(df[df[labelcol] == 1].index)\n",
        "    # Drop labelcol and rename the tmp col as labelcol\n",
        "    df = df.drop(labelcol, axis=1)\n",
        "    df = df.rename(columns={labelcol+'tmp': labelcol})\n",
        "    # Make the labelcol binary\n",
        "    df.loc[df[labelcol] > 0, labelcol] = 1\n",
        "\n",
        "    return df"
      ],
      "execution_count": 4,
      "outputs": []
    },
    {
      "cell_type": "code",
      "metadata": {
        "colab": {
          "base_uri": "https://localhost:8080/",
          "height": 430
        },
        "id": "kKTktAQom3lR",
        "outputId": "f2df5576-3770-4fa4-f6d9-41575e54557a"
      },
      "source": [
        "print('Before shifting')  # Positive labeled rows before shifting.\n",
        "one_indexes = df.index[df['y'] == 1]\n",
        "display(df.iloc[(one_indexes[0]-3):(one_indexes[0]+2), 0:5].head(n=5))\n",
        "\n",
        "# Shift the response column y by 2 rows to do a 4-min ahead prediction.\n",
        "df = curve_shift(df, shift_by = -2)\n",
        "\n",
        "print('After shifting')  # Validating if the shift happened correctly.\n",
        "display(df.iloc[(one_indexes[0]-4):(one_indexes[0]+1), 0:5].head(n=5))  "
      ],
      "execution_count": 5,
      "outputs": [
        {
          "output_type": "stream",
          "text": [
            "Before shifting\n"
          ],
          "name": "stdout"
        },
        {
          "output_type": "display_data",
          "data": {
            "text/html": [
              "<div>\n",
              "<style scoped>\n",
              "    .dataframe tbody tr th:only-of-type {\n",
              "        vertical-align: middle;\n",
              "    }\n",
              "\n",
              "    .dataframe tbody tr th {\n",
              "        vertical-align: top;\n",
              "    }\n",
              "\n",
              "    .dataframe thead th {\n",
              "        text-align: right;\n",
              "    }\n",
              "</style>\n",
              "<table border=\"1\" class=\"dataframe\">\n",
              "  <thead>\n",
              "    <tr style=\"text-align: right;\">\n",
              "      <th></th>\n",
              "      <th>time</th>\n",
              "      <th>y</th>\n",
              "      <th>x1</th>\n",
              "      <th>x2</th>\n",
              "      <th>x3</th>\n",
              "    </tr>\n",
              "  </thead>\n",
              "  <tbody>\n",
              "    <tr>\n",
              "      <th>256</th>\n",
              "      <td>5/1/99 8:32</td>\n",
              "      <td>0</td>\n",
              "      <td>1.016235</td>\n",
              "      <td>-4.058394</td>\n",
              "      <td>-1.097158</td>\n",
              "    </tr>\n",
              "    <tr>\n",
              "      <th>257</th>\n",
              "      <td>5/1/99 8:34</td>\n",
              "      <td>0</td>\n",
              "      <td>1.005602</td>\n",
              "      <td>-3.876199</td>\n",
              "      <td>-1.074373</td>\n",
              "    </tr>\n",
              "    <tr>\n",
              "      <th>258</th>\n",
              "      <td>5/1/99 8:36</td>\n",
              "      <td>0</td>\n",
              "      <td>0.933933</td>\n",
              "      <td>-3.868467</td>\n",
              "      <td>-1.249954</td>\n",
              "    </tr>\n",
              "    <tr>\n",
              "      <th>259</th>\n",
              "      <td>5/1/99 8:38</td>\n",
              "      <td>1</td>\n",
              "      <td>0.892311</td>\n",
              "      <td>-13.332664</td>\n",
              "      <td>-10.006578</td>\n",
              "    </tr>\n",
              "    <tr>\n",
              "      <th>260</th>\n",
              "      <td>5/1/99 10:50</td>\n",
              "      <td>0</td>\n",
              "      <td>0.020062</td>\n",
              "      <td>-3.987897</td>\n",
              "      <td>-1.248529</td>\n",
              "    </tr>\n",
              "  </tbody>\n",
              "</table>\n",
              "</div>"
            ],
            "text/plain": [
              "             time  y        x1         x2         x3\n",
              "256   5/1/99 8:32  0  1.016235  -4.058394  -1.097158\n",
              "257   5/1/99 8:34  0  1.005602  -3.876199  -1.074373\n",
              "258   5/1/99 8:36  0  0.933933  -3.868467  -1.249954\n",
              "259   5/1/99 8:38  1  0.892311 -13.332664 -10.006578\n",
              "260  5/1/99 10:50  0  0.020062  -3.987897  -1.248529"
            ]
          },
          "metadata": {
            "tags": []
          }
        },
        {
          "output_type": "stream",
          "text": [
            "After shifting\n"
          ],
          "name": "stdout"
        },
        {
          "output_type": "display_data",
          "data": {
            "text/html": [
              "<div>\n",
              "<style scoped>\n",
              "    .dataframe tbody tr th:only-of-type {\n",
              "        vertical-align: middle;\n",
              "    }\n",
              "\n",
              "    .dataframe tbody tr th {\n",
              "        vertical-align: top;\n",
              "    }\n",
              "\n",
              "    .dataframe thead th {\n",
              "        text-align: right;\n",
              "    }\n",
              "</style>\n",
              "<table border=\"1\" class=\"dataframe\">\n",
              "  <thead>\n",
              "    <tr style=\"text-align: right;\">\n",
              "      <th></th>\n",
              "      <th>y</th>\n",
              "      <th>time</th>\n",
              "      <th>x1</th>\n",
              "      <th>x2</th>\n",
              "      <th>x3</th>\n",
              "    </tr>\n",
              "  </thead>\n",
              "  <tbody>\n",
              "    <tr>\n",
              "      <th>255</th>\n",
              "      <td>0.0</td>\n",
              "      <td>5/1/99 8:30</td>\n",
              "      <td>0.997107</td>\n",
              "      <td>-3.865720</td>\n",
              "      <td>-1.133779</td>\n",
              "    </tr>\n",
              "    <tr>\n",
              "      <th>256</th>\n",
              "      <td>0.0</td>\n",
              "      <td>5/1/99 8:32</td>\n",
              "      <td>1.016235</td>\n",
              "      <td>-4.058394</td>\n",
              "      <td>-1.097158</td>\n",
              "    </tr>\n",
              "    <tr>\n",
              "      <th>257</th>\n",
              "      <td>1.0</td>\n",
              "      <td>5/1/99 8:34</td>\n",
              "      <td>1.005602</td>\n",
              "      <td>-3.876199</td>\n",
              "      <td>-1.074373</td>\n",
              "    </tr>\n",
              "    <tr>\n",
              "      <th>258</th>\n",
              "      <td>1.0</td>\n",
              "      <td>5/1/99 8:36</td>\n",
              "      <td>0.933933</td>\n",
              "      <td>-3.868467</td>\n",
              "      <td>-1.249954</td>\n",
              "    </tr>\n",
              "    <tr>\n",
              "      <th>260</th>\n",
              "      <td>0.0</td>\n",
              "      <td>5/1/99 10:50</td>\n",
              "      <td>0.020062</td>\n",
              "      <td>-3.987897</td>\n",
              "      <td>-1.248529</td>\n",
              "    </tr>\n",
              "  </tbody>\n",
              "</table>\n",
              "</div>"
            ],
            "text/plain": [
              "       y          time        x1        x2        x3\n",
              "255  0.0   5/1/99 8:30  0.997107 -3.865720 -1.133779\n",
              "256  0.0   5/1/99 8:32  1.016235 -4.058394 -1.097158\n",
              "257  1.0   5/1/99 8:34  1.005602 -3.876199 -1.074373\n",
              "258  1.0   5/1/99 8:36  0.933933 -3.868467 -1.249954\n",
              "260  0.0  5/1/99 10:50  0.020062 -3.987897 -1.248529"
            ]
          },
          "metadata": {
            "tags": []
          }
        }
      ]
    },
    {
      "cell_type": "code",
      "metadata": {
        "id": "vTchzpzvm3lV"
      },
      "source": [
        "# Remove time column, and the categorical columns\n",
        "df = df.drop(['time', 'x28', 'x61'], axis=1)"
      ],
      "execution_count": 6,
      "outputs": []
    },
    {
      "cell_type": "code",
      "metadata": {
        "id": "coYPERGQm3la"
      },
      "source": [
        "df_train, df_test = train_test_split(df, test_size=DATA_SPLIT_PCT, random_state=SEED)\n",
        "df_train, df_valid = train_test_split(df_train, test_size=DATA_SPLIT_PCT, random_state=SEED)"
      ],
      "execution_count": 7,
      "outputs": []
    },
    {
      "cell_type": "code",
      "metadata": {
        "id": "ophbLaRum3le"
      },
      "source": [
        "df_train_0 = df_train.loc[df['y'] == 0]\n",
        "df_train_1 = df_train.loc[df['y'] == 1]\n",
        "df_train_0_x = df_train_0.drop(['y'], axis=1)\n",
        "df_train_0_y = np.array(df_train_0['y'])\n",
        "df_train_1_x = df_train_1.drop(['y'], axis=1)\n",
        "df_train_1_y = np.array(df_train_1['y'])\n",
        "\n",
        "df_valid_0 = df_valid.loc[df['y'] == 0]\n",
        "df_valid_1 = df_valid.loc[df['y'] == 1]\n",
        "df_valid_0_x = df_valid_0.drop(['y'], axis=1)\n",
        "df_valid_0_y = np.array(df_valid_0['y'])\n",
        "df_valid_1_x = df_valid_1.drop(['y'], axis=1)\n",
        "df_valid_1_y = np.array(df_valid_1['y'])\n",
        "\n",
        "df_test_0 = df_test.loc[df['y'] == 0]\n",
        "df_test_1 = df_test.loc[df['y'] == 1]\n",
        "df_test_0_x = df_test_0.drop(['y'], axis=1)\n",
        "df_test_0_y = np.array(df_valid_0['y'])\n",
        "df_test_1_x = df_test_1.drop(['y'], axis=1)\n",
        "df_test_0_y = np.array(df_valid_0['y'])"
      ],
      "execution_count": 8,
      "outputs": []
    },
    {
      "cell_type": "code",
      "metadata": {
        "id": "GIaJvHhEm3lj"
      },
      "source": [
        "scaler = StandardScaler().fit(df_train_0_x)\n",
        "df_train_0_x_rescaled = scaler.transform(df_train_0_x)\n",
        "\n",
        "df_valid_0_x_rescaled = scaler.transform(df_valid_0_x)\n",
        "df_valid_x_rescaled = scaler.transform(df_valid.drop(['y'], axis = 1))\n",
        "\n",
        "df_test_0_x_rescaled = scaler.transform(df_test_0_x)\n",
        "df_test_x_rescaled = scaler.transform(df_test.drop(['y'], axis = 1))"
      ],
      "execution_count": 9,
      "outputs": []
    },
    {
      "cell_type": "code",
      "metadata": {
        "colab": {
          "base_uri": "https://localhost:8080/"
        },
        "id": "XPTgaHFGub68",
        "outputId": "5cce4cc6-4915-4e95-fb34-bb31d0e2a190"
      },
      "source": [
        "print(df_train_0_x_rescaled.shape)\n",
        "print(df_valid_0_x_rescaled.shape)\n",
        "print(df_test_0_x_rescaled.shape)\n",
        "print(df_test_x_rescaled.shape)"
      ],
      "execution_count": 10,
      "outputs": [
        {
          "output_type": "stream",
          "text": [
            "(11541, 59)\n",
            "(2883, 59)\n",
            "(3603, 59)\n",
            "(3655, 59)\n"
          ],
          "name": "stdout"
        }
      ]
    },
    {
      "cell_type": "code",
      "metadata": {
        "id": "lJ-3p7kW-HPE"
      },
      "source": [
        "from torch.utils.data import Dataset"
      ],
      "execution_count": 11,
      "outputs": []
    },
    {
      "cell_type": "code",
      "metadata": {
        "id": "Q6LE_L5dm3lp"
      },
      "source": [
        "class MyDataset(Dataset):\n",
        "    def __init__(self, data, targets, transform=None):\n",
        "        self.data = data\n",
        "        self.targets = torch.LongTensor(targets)\n",
        "        self.transform = transform\n",
        "\n",
        "    def __getitem__(self, index): ## generator \n",
        "        x = self.data[index]\n",
        "        y = self.targets[index]\n",
        "\n",
        "        if self.transform:\n",
        "            x = self.data[index].astype(np.uint8)\n",
        "            x = self.transform(x)\n",
        "\n",
        "        return x, y\n",
        "\n",
        "    def __len__(self):\n",
        "        return len(self.data)\n",
        "\n",
        "data = df_train_0_x_rescaled\n",
        "targets = df_train_0_y\n",
        "\n",
        "#transform = transforms.Compose([transforms.ToTensor()])\n",
        "train_data = MyDataset(data, targets)#, transform=transform)\n"
      ],
      "execution_count": 12,
      "outputs": []
    },
    {
      "cell_type": "code",
      "metadata": {
        "id": "ilt_CQzYoKOp"
      },
      "source": [
        "data2 = df_valid_0_x_rescaled\n",
        "targets2 = df_test_0_y\n",
        "\n",
        "#transform = transforms.Compose([transforms.ToTensor()])\n",
        "test_data = MyDataset(data2, targets2)#, transform=transform)\n"
      ],
      "execution_count": 13,
      "outputs": []
    },
    {
      "cell_type": "markdown",
      "metadata": {
        "id": "V-md0G3DfmgT"
      },
      "source": [
        "# Model:"
      ]
    },
    {
      "cell_type": "markdown",
      "metadata": {
        "id": "mS58GYPho60k"
      },
      "source": [
        "## Code:"
      ]
    },
    {
      "cell_type": "code",
      "metadata": {
        "id": "FdsKC2Tqo60v"
      },
      "source": [
        "\n",
        "args = easydict.EasyDict({\n",
        "    'epochs':50\n",
        "})\n",
        "\n",
        "epochs = args['epochs']\n",
        "learning_rate = 1e-3\n",
        "batch_size = 150"
      ],
      "execution_count": 14,
      "outputs": []
    },
    {
      "cell_type": "code",
      "metadata": {
        "id": "AVnno8cZo60y"
      },
      "source": [
        "\n",
        "# trainloader\n",
        "trainloader = DataLoader(\n",
        "    train_data, \n",
        "    batch_size=batch_size,\n",
        "    shuffle=True\n",
        ")\n",
        "#testloader\n",
        "testloader = DataLoader(\n",
        "    test_data, \n",
        "    batch_size=batch_size, \n",
        "    shuffle=False\n",
        ")"
      ],
      "execution_count": 15,
      "outputs": []
    },
    {
      "cell_type": "code",
      "metadata": {
        "id": "yBuXwmCao600"
      },
      "source": [
        ""
      ],
      "execution_count": 15,
      "outputs": []
    },
    {
      "cell_type": "code",
      "metadata": {
        "id": "qtrKEk4eo603"
      },
      "source": [
        "# get the computation device\n",
        "def get_device():\n",
        "    if torch.cuda.is_available():\n",
        "        device = 'cuda:0'\n",
        "    else:\n",
        "        device = 'cpu'\n",
        "    return device\n",
        "device = get_device()\n"
      ],
      "execution_count": 16,
      "outputs": []
    },
    {
      "cell_type": "code",
      "metadata": {
        "id": "go1fXhP8o606"
      },
      "source": [
        "# define the autoencoder model\n",
        "class Autoencoder(nn.Module):\n",
        "   # In the __init__ function, you are supposed to initialize the layers you want to use. \n",
        "    def __init__(self):\n",
        "        super(Autoencoder, self).__init__()\n",
        "        \n",
        "        # encoder\n",
        "        self.enc1 = nn.Linear(in_features=59, out_features=45, bias= True) \n",
        "        self.enc2 = nn.Linear(in_features=45, out_features=32, bias= True) \n",
        "        self.enc3 = nn.Linear(in_features=32, out_features=16, bias= True) \n",
        "        \n",
        "        self.cod1 = nn.Linear(in_features=16, out_features=16, bias= True) \n",
        "        \n",
        "        # decoder\n",
        "        self.dec4 = nn.Linear(in_features=16, out_features=32, bias= True) \n",
        "        self.dec5 = nn.Linear(in_features=32, out_features=45, bias= True) \n",
        "        self.dec6 = nn.Linear(in_features=45, out_features=59, bias= True)\n",
        "\n",
        "    def forward(self, x):\n",
        "        # encoding\n",
        "        x = torch.relu(self.enc1(x))\n",
        "        x = torch.relu(self.enc2(x))\n",
        "        x = torch.relu(self.enc3(x))\n",
        "        x = torch.relu(self.cod1(x))\n",
        "        # decoding\n",
        "        x = torch.relu(self.dec4(x))\n",
        "        x = torch.relu(self.dec5(x))\n",
        "        x = self.dec6(x)\n",
        "        return x\n",
        "\n",
        "model1 = Autoencoder().to(device)\n",
        "\n"
      ],
      "execution_count": 17,
      "outputs": []
    },
    {
      "cell_type": "code",
      "metadata": {
        "id": "eAVwSew0o609"
      },
      "source": [
        "# the loss function\n",
        "criterion = nn.MSELoss()\n",
        "# the optimizer\n",
        "optimizer = optim.Adam(model1.parameters(), lr=learning_rate) #Adam"
      ],
      "execution_count": 18,
      "outputs": []
    },
    {
      "cell_type": "code",
      "metadata": {
        "id": "Q6INDblTo61A"
      },
      "source": [
        "# get the layers as a list\n",
        "model_children = list(model1.children())\n",
        "model1 = model1.double()"
      ],
      "execution_count": 19,
      "outputs": []
    },
    {
      "cell_type": "code",
      "metadata": {
        "id": "sJuXmVEeo61F"
      },
      "source": [
        "# define the training function\n",
        "def fit(model, dataloader, epoch):\n",
        "    train_loss = []\n",
        "    print('Training')\n",
        "    model.train()\n",
        "    running_loss = 0.0\n",
        "\n",
        "    counter = 0\n",
        "    correct = 0\n",
        "    total = 0 \n",
        "    for i, data in tqdm(enumerate(dataloader), total=int(len(df_train_0_x_rescaled)/dataloader.batch_size)):\n",
        "        counter += 1\n",
        "        img = data[0]\n",
        "        target = data[1] \n",
        "        tamanho = int(np.array(data[1].shape))\n",
        "        img = img.to(device)\n",
        "        target = target.to(device)\n",
        "\n",
        "        img = img.view(img.size(0), -1)\n",
        "        \n",
        "        optimizer.zero_grad()\n",
        "        outputs = model(img.double()) ##  \n",
        "        loss_super = criterion(outputs, img) # supervised loss\n",
        "       \n",
        "        ## Loss\n",
        "        loss = loss_super\n",
        "        loss.backward()\n",
        "        optimizer.step()\n",
        "        running_loss += loss.item()\n",
        "\n",
        "    epoch_loss = running_loss / counter \n",
        "    print(f\"Train Loss: {epoch_loss:.3f}\")\n",
        "\n",
        "    return epoch_loss, outputs#, jacob"
      ],
      "execution_count": 20,
      "outputs": []
    },
    {
      "cell_type": "code",
      "metadata": {
        "id": "vV7jaFpMo61N"
      },
      "source": [
        "# define the validation function\n",
        "def validate(model, dataloader, epoch):\n",
        "    print('Validating')\n",
        "    model.eval()\n",
        "    running_loss = 0.0\n",
        "\n",
        "    counter = 0\n",
        "    correct = 0\n",
        "    total = 0 \n",
        "    with torch.no_grad():\n",
        "        for i, data in tqdm(enumerate(dataloader), total=int(len(df_valid_0_x_rescaled)/dataloader.batch_size)):\n",
        "            counter += 1\n",
        "            img = data[0]\n",
        "            target = data[1] \n",
        "           \n",
        "            img = img.to(device)\n",
        "            target = target.to(device)\n",
        "\n",
        "            img = img.view(img.size(0), -1)\n",
        "            outputs = model(img.double())\n",
        "            loss = criterion(outputs, img)\n",
        "            running_loss += loss.item()\n",
        "            \n",
        "\n",
        "\n",
        "    epoch_loss = running_loss / counter \n",
        "\n",
        "    print(f\"Val Loss: {epoch_loss:.3f}\")  \n",
        "    return epoch_loss, outputs"
      ],
      "execution_count": 21,
      "outputs": []
    },
    {
      "cell_type": "code",
      "metadata": {
        "id": "lxwBe6_loHgG"
      },
      "source": [
        ""
      ],
      "execution_count": 21,
      "outputs": []
    },
    {
      "cell_type": "markdown",
      "metadata": {
        "id": "re8AFqRRfmhH"
      },
      "source": [
        "## Trein:"
      ]
    },
    {
      "cell_type": "code",
      "metadata": {
        "colab": {
          "base_uri": "https://localhost:8080/"
        },
        "id": "-ph3MFDbfmhH",
        "outputId": "0aab117f-be0b-4521-f9b4-716efbd293ae"
      },
      "source": [
        "# train and validate the autoencoder neural network\n",
        "train_loss1 = []\n",
        "val_loss1 = []\n",
        "start1 = time.time()\n",
        "for epoch in range(epochs):\n",
        "    #print(f\"Epoch {epoch+1} of {epochs}\")\n",
        "    train_epoch_loss1, outputs1 = fit(model1, trainloader, epoch)\n",
        "    val_epoch_loss1, preds1 = validate(model1, testloader, epoch)\n",
        "   \n",
        "    train_loss1.append(train_epoch_loss1)\n",
        "    val_loss1.append(val_epoch_loss1)\n",
        "    \n",
        "end1 = time.time()\n",
        " \n",
        "print(f\"{(end1-start1)/60:.3} minutes\")"
      ],
      "execution_count": 22,
      "outputs": [
        {
          "output_type": "stream",
          "text": [
            " 38%|███▊      | 29/76 [00:00<00:00, 275.64it/s]"
          ],
          "name": "stderr"
        },
        {
          "output_type": "stream",
          "text": [
            "Training\n"
          ],
          "name": "stdout"
        },
        {
          "output_type": "stream",
          "text": [
            "77it [00:00, 252.05it/s]                        \n",
            "20it [00:00, 428.90it/s]              \n",
            " 32%|███▏      | 24/76 [00:00<00:00, 230.81it/s]"
          ],
          "name": "stderr"
        },
        {
          "output_type": "stream",
          "text": [
            "Train Loss: 0.942\n",
            "Validating\n",
            "Val Loss: 0.731\n",
            "Training\n"
          ],
          "name": "stdout"
        },
        {
          "output_type": "stream",
          "text": [
            "77it [00:00, 243.93it/s]                        \n",
            "20it [00:00, 599.68it/s]              \n",
            " 30%|███       | 23/76 [00:00<00:00, 229.18it/s]"
          ],
          "name": "stderr"
        },
        {
          "output_type": "stream",
          "text": [
            "Train Loss: 0.642\n",
            "Validating\n",
            "Val Loss: 0.586\n",
            "Training\n"
          ],
          "name": "stdout"
        },
        {
          "output_type": "stream",
          "text": [
            "77it [00:00, 215.14it/s]                        \n",
            "20it [00:00, 544.91it/s]              \n",
            " 30%|███       | 23/76 [00:00<00:00, 229.56it/s]"
          ],
          "name": "stderr"
        },
        {
          "output_type": "stream",
          "text": [
            "Train Loss: 0.494\n",
            "Validating\n",
            "Val Loss: 0.442\n",
            "Training\n"
          ],
          "name": "stdout"
        },
        {
          "output_type": "stream",
          "text": [
            "77it [00:00, 230.29it/s]                        \n",
            "20it [00:00, 463.93it/s]              \n",
            " 38%|███▊      | 29/76 [00:00<00:00, 284.38it/s]"
          ],
          "name": "stderr"
        },
        {
          "output_type": "stream",
          "text": [
            "Train Loss: 0.409\n",
            "Validating\n",
            "Val Loss: 0.388\n",
            "Training\n"
          ],
          "name": "stdout"
        },
        {
          "output_type": "stream",
          "text": [
            "77it [00:00, 257.40it/s]                        \n",
            "20it [00:00, 551.16it/s]              \n",
            " 32%|███▏      | 24/76 [00:00<00:00, 239.68it/s]"
          ],
          "name": "stderr"
        },
        {
          "output_type": "stream",
          "text": [
            "Train Loss: 0.367\n",
            "Validating\n",
            "Val Loss: 0.352\n",
            "Training\n"
          ],
          "name": "stdout"
        },
        {
          "output_type": "stream",
          "text": [
            "77it [00:00, 256.34it/s]                        \n",
            "20it [00:00, 417.45it/s]              \n",
            " 38%|███▊      | 29/76 [00:00<00:00, 282.76it/s]"
          ],
          "name": "stderr"
        },
        {
          "output_type": "stream",
          "text": [
            "Train Loss: 0.339\n",
            "Validating\n",
            "Val Loss: 0.330\n",
            "Training\n"
          ],
          "name": "stdout"
        },
        {
          "output_type": "stream",
          "text": [
            "77it [00:00, 264.66it/s]                        \n",
            "20it [00:00, 456.57it/s]              \n",
            " 37%|███▋      | 28/76 [00:00<00:00, 277.08it/s]"
          ],
          "name": "stderr"
        },
        {
          "output_type": "stream",
          "text": [
            "Train Loss: 0.318\n",
            "Validating\n",
            "Val Loss: 0.310\n",
            "Training\n"
          ],
          "name": "stdout"
        },
        {
          "output_type": "stream",
          "text": [
            "77it [00:00, 269.37it/s]                        \n",
            "20it [00:00, 556.20it/s]              \n",
            " 39%|███▉      | 30/76 [00:00<00:00, 296.93it/s]"
          ],
          "name": "stderr"
        },
        {
          "output_type": "stream",
          "text": [
            "Train Loss: 0.301\n",
            "Validating\n",
            "Val Loss: 0.294\n",
            "Training\n"
          ],
          "name": "stdout"
        },
        {
          "output_type": "stream",
          "text": [
            "77it [00:00, 255.01it/s]                        \n",
            "20it [00:00, 526.09it/s]              \n",
            " 37%|███▋      | 28/76 [00:00<00:00, 274.17it/s]"
          ],
          "name": "stderr"
        },
        {
          "output_type": "stream",
          "text": [
            "Train Loss: 0.288\n",
            "Validating\n",
            "Val Loss: 0.284\n",
            "Training\n"
          ],
          "name": "stdout"
        },
        {
          "output_type": "stream",
          "text": [
            "77it [00:00, 258.74it/s]                        \n",
            "20it [00:00, 585.97it/s]              \n",
            " 38%|███▊      | 29/76 [00:00<00:00, 282.85it/s]"
          ],
          "name": "stderr"
        },
        {
          "output_type": "stream",
          "text": [
            "Train Loss: 0.277\n",
            "Validating\n",
            "Val Loss: 0.274\n",
            "Training\n"
          ],
          "name": "stdout"
        },
        {
          "output_type": "stream",
          "text": [
            "77it [00:00, 267.53it/s]                        \n",
            "20it [00:00, 526.00it/s]              \n",
            " 36%|███▌      | 27/76 [00:00<00:00, 269.13it/s]"
          ],
          "name": "stderr"
        },
        {
          "output_type": "stream",
          "text": [
            "Train Loss: 0.268\n",
            "Validating\n",
            "Val Loss: 0.263\n",
            "Training\n"
          ],
          "name": "stdout"
        },
        {
          "output_type": "stream",
          "text": [
            "77it [00:00, 266.08it/s]                        \n",
            "20it [00:00, 584.10it/s]              \n",
            " 36%|███▌      | 27/76 [00:00<00:00, 268.44it/s]"
          ],
          "name": "stderr"
        },
        {
          "output_type": "stream",
          "text": [
            "Train Loss: 0.258\n",
            "Validating\n",
            "Val Loss: 0.253\n",
            "Training\n"
          ],
          "name": "stdout"
        },
        {
          "output_type": "stream",
          "text": [
            "77it [00:00, 262.34it/s]                        \n",
            "20it [00:00, 570.15it/s]              \n",
            " 36%|███▌      | 27/76 [00:00<00:00, 269.95it/s]"
          ],
          "name": "stderr"
        },
        {
          "output_type": "stream",
          "text": [
            "Train Loss: 0.247\n",
            "Validating\n",
            "Val Loss: 0.245\n",
            "Training\n"
          ],
          "name": "stdout"
        },
        {
          "output_type": "stream",
          "text": [
            "77it [00:00, 273.37it/s]                        \n",
            "20it [00:00, 448.33it/s]              \n",
            " 33%|███▎      | 25/76 [00:00<00:00, 243.90it/s]"
          ],
          "name": "stderr"
        },
        {
          "output_type": "stream",
          "text": [
            "Train Loss: 0.239\n",
            "Validating\n",
            "Val Loss: 0.238\n",
            "Training\n"
          ],
          "name": "stdout"
        },
        {
          "output_type": "stream",
          "text": [
            "77it [00:00, 257.69it/s]                        \n",
            "20it [00:00, 522.96it/s]              \n",
            " 37%|███▋      | 28/76 [00:00<00:00, 265.03it/s]"
          ],
          "name": "stderr"
        },
        {
          "output_type": "stream",
          "text": [
            "Train Loss: 0.232\n",
            "Validating\n",
            "Val Loss: 0.231\n",
            "Training\n"
          ],
          "name": "stdout"
        },
        {
          "output_type": "stream",
          "text": [
            "77it [00:00, 245.14it/s]\n",
            "20it [00:00, 634.05it/s]              \n",
            " 37%|███▋      | 28/76 [00:00<00:00, 276.53it/s]"
          ],
          "name": "stderr"
        },
        {
          "output_type": "stream",
          "text": [
            "Train Loss: 0.226\n",
            "Validating\n",
            "Val Loss: 0.226\n",
            "Training\n"
          ],
          "name": "stdout"
        },
        {
          "output_type": "stream",
          "text": [
            "77it [00:00, 266.87it/s]                        \n",
            "20it [00:00, 602.06it/s]              \n",
            " 38%|███▊      | 29/76 [00:00<00:00, 286.16it/s]"
          ],
          "name": "stderr"
        },
        {
          "output_type": "stream",
          "text": [
            "Train Loss: 0.221\n",
            "Validating\n",
            "Val Loss: 0.222\n",
            "Training\n"
          ],
          "name": "stdout"
        },
        {
          "output_type": "stream",
          "text": [
            "77it [00:00, 255.59it/s]                        \n",
            "20it [00:00, 604.90it/s]              \n",
            " 33%|███▎      | 25/76 [00:00<00:00, 249.03it/s]"
          ],
          "name": "stderr"
        },
        {
          "output_type": "stream",
          "text": [
            "Train Loss: 0.217\n",
            "Validating\n",
            "Val Loss: 0.219\n",
            "Training\n"
          ],
          "name": "stdout"
        },
        {
          "output_type": "stream",
          "text": [
            "77it [00:00, 257.15it/s]                        \n",
            "20it [00:00, 613.97it/s]              \n",
            " 36%|███▌      | 27/76 [00:00<00:00, 268.00it/s]"
          ],
          "name": "stderr"
        },
        {
          "output_type": "stream",
          "text": [
            "Train Loss: 0.213\n",
            "Validating\n",
            "Val Loss: 0.214\n",
            "Training\n"
          ],
          "name": "stdout"
        },
        {
          "output_type": "stream",
          "text": [
            "77it [00:00, 269.60it/s]                        \n",
            "20it [00:00, 600.97it/s]              \n",
            " 34%|███▍      | 26/76 [00:00<00:00, 251.78it/s]"
          ],
          "name": "stderr"
        },
        {
          "output_type": "stream",
          "text": [
            "Train Loss: 0.210\n",
            "Validating\n",
            "Val Loss: 0.211\n",
            "Training\n"
          ],
          "name": "stdout"
        },
        {
          "output_type": "stream",
          "text": [
            "77it [00:00, 245.37it/s]\n",
            "20it [00:00, 561.23it/s]              \n",
            " 36%|███▌      | 27/76 [00:00<00:00, 262.71it/s]"
          ],
          "name": "stderr"
        },
        {
          "output_type": "stream",
          "text": [
            "Train Loss: 0.206\n",
            "Validating\n",
            "Val Loss: 0.207\n",
            "Training\n"
          ],
          "name": "stdout"
        },
        {
          "output_type": "stream",
          "text": [
            "77it [00:00, 263.44it/s]                        \n",
            "20it [00:00, 486.23it/s]              \n",
            " 34%|███▍      | 26/76 [00:00<00:00, 252.26it/s]"
          ],
          "name": "stderr"
        },
        {
          "output_type": "stream",
          "text": [
            "Train Loss: 0.202\n",
            "Validating\n",
            "Val Loss: 0.204\n",
            "Training\n"
          ],
          "name": "stdout"
        },
        {
          "output_type": "stream",
          "text": [
            "77it [00:00, 259.17it/s]                        \n",
            "20it [00:00, 600.01it/s]              \n",
            " 36%|███▌      | 27/76 [00:00<00:00, 268.63it/s]"
          ],
          "name": "stderr"
        },
        {
          "output_type": "stream",
          "text": [
            "Train Loss: 0.199\n",
            "Validating\n",
            "Val Loss: 0.200\n",
            "Training\n"
          ],
          "name": "stdout"
        },
        {
          "output_type": "stream",
          "text": [
            "77it [00:00, 260.20it/s]                        \n",
            "20it [00:00, 534.35it/s]              \n",
            " 30%|███       | 23/76 [00:00<00:00, 227.40it/s]"
          ],
          "name": "stderr"
        },
        {
          "output_type": "stream",
          "text": [
            "Train Loss: 0.195\n",
            "Validating\n",
            "Val Loss: 0.199\n",
            "Training\n"
          ],
          "name": "stdout"
        },
        {
          "output_type": "stream",
          "text": [
            "77it [00:00, 255.93it/s]                        \n",
            "20it [00:00, 599.77it/s]              \n",
            " 37%|███▋      | 28/76 [00:00<00:00, 275.40it/s]"
          ],
          "name": "stderr"
        },
        {
          "output_type": "stream",
          "text": [
            "Train Loss: 0.193\n",
            "Validating\n",
            "Val Loss: 0.194\n",
            "Training\n"
          ],
          "name": "stdout"
        },
        {
          "output_type": "stream",
          "text": [
            "77it [00:00, 269.63it/s]                        \n",
            "20it [00:00, 594.68it/s]              \n",
            " 36%|███▌      | 27/76 [00:00<00:00, 263.36it/s]"
          ],
          "name": "stderr"
        },
        {
          "output_type": "stream",
          "text": [
            "Train Loss: 0.190\n",
            "Validating\n",
            "Val Loss: 0.192\n",
            "Training\n"
          ],
          "name": "stdout"
        },
        {
          "output_type": "stream",
          "text": [
            "77it [00:00, 262.25it/s]                        \n",
            "20it [00:00, 512.65it/s]              \n",
            " 36%|███▌      | 27/76 [00:00<00:00, 264.38it/s]"
          ],
          "name": "stderr"
        },
        {
          "output_type": "stream",
          "text": [
            "Train Loss: 0.187\n",
            "Validating\n",
            "Val Loss: 0.190\n",
            "Training\n"
          ],
          "name": "stdout"
        },
        {
          "output_type": "stream",
          "text": [
            "77it [00:00, 246.33it/s]\n",
            "20it [00:00, 553.38it/s]              \n",
            " 37%|███▋      | 28/76 [00:00<00:00, 274.48it/s]"
          ],
          "name": "stderr"
        },
        {
          "output_type": "stream",
          "text": [
            "Train Loss: 0.184\n",
            "Validating\n",
            "Val Loss: 0.188\n",
            "Training\n"
          ],
          "name": "stdout"
        },
        {
          "output_type": "stream",
          "text": [
            "77it [00:00, 269.41it/s]                        \n",
            "20it [00:00, 572.57it/s]              \n",
            " 39%|███▉      | 30/76 [00:00<00:00, 297.19it/s]"
          ],
          "name": "stderr"
        },
        {
          "output_type": "stream",
          "text": [
            "Train Loss: 0.182\n",
            "Validating\n",
            "Val Loss: 0.186\n",
            "Training\n"
          ],
          "name": "stdout"
        },
        {
          "output_type": "stream",
          "text": [
            "77it [00:00, 278.87it/s]                        \n",
            "20it [00:00, 491.96it/s]              \n",
            " 34%|███▍      | 26/76 [00:00<00:00, 259.88it/s]"
          ],
          "name": "stderr"
        },
        {
          "output_type": "stream",
          "text": [
            "Train Loss: 0.180\n",
            "Validating\n",
            "Val Loss: 0.184\n",
            "Training\n"
          ],
          "name": "stdout"
        },
        {
          "output_type": "stream",
          "text": [
            "77it [00:00, 261.91it/s]                        \n",
            "20it [00:00, 601.33it/s]              \n",
            " 34%|███▍      | 26/76 [00:00<00:00, 253.48it/s]"
          ],
          "name": "stderr"
        },
        {
          "output_type": "stream",
          "text": [
            "Train Loss: 0.178\n",
            "Validating\n",
            "Val Loss: 0.182\n",
            "Training\n"
          ],
          "name": "stdout"
        },
        {
          "output_type": "stream",
          "text": [
            "77it [00:00, 264.09it/s]                        \n",
            "20it [00:00, 557.25it/s]              \n",
            " 38%|███▊      | 29/76 [00:00<00:00, 286.01it/s]"
          ],
          "name": "stderr"
        },
        {
          "output_type": "stream",
          "text": [
            "Train Loss: 0.177\n",
            "Validating\n",
            "Val Loss: 0.179\n",
            "Training\n"
          ],
          "name": "stdout"
        },
        {
          "output_type": "stream",
          "text": [
            "77it [00:00, 259.29it/s]                        \n",
            "20it [00:00, 462.02it/s]              \n",
            " 34%|███▍      | 26/76 [00:00<00:00, 255.25it/s]"
          ],
          "name": "stderr"
        },
        {
          "output_type": "stream",
          "text": [
            "Train Loss: 0.175\n",
            "Validating\n",
            "Val Loss: 0.179\n",
            "Training\n"
          ],
          "name": "stdout"
        },
        {
          "output_type": "stream",
          "text": [
            "77it [00:00, 261.07it/s]                        \n",
            "20it [00:00, 509.60it/s]              \n",
            " 39%|███▉      | 30/76 [00:00<00:00, 291.60it/s]"
          ],
          "name": "stderr"
        },
        {
          "output_type": "stream",
          "text": [
            "Train Loss: 0.173\n",
            "Validating\n",
            "Val Loss: 0.177\n",
            "Training\n"
          ],
          "name": "stdout"
        },
        {
          "output_type": "stream",
          "text": [
            "77it [00:00, 267.34it/s]                        \n",
            "20it [00:00, 635.60it/s]              \n",
            " 37%|███▋      | 28/76 [00:00<00:00, 277.52it/s]"
          ],
          "name": "stderr"
        },
        {
          "output_type": "stream",
          "text": [
            "Train Loss: 0.172\n",
            "Validating\n",
            "Val Loss: 0.175\n",
            "Training\n"
          ],
          "name": "stdout"
        },
        {
          "output_type": "stream",
          "text": [
            "77it [00:00, 250.22it/s]\n",
            "20it [00:00, 551.65it/s]              \n",
            " 37%|███▋      | 28/76 [00:00<00:00, 273.36it/s]"
          ],
          "name": "stderr"
        },
        {
          "output_type": "stream",
          "text": [
            "Train Loss: 0.170\n",
            "Validating\n",
            "Val Loss: 0.176\n",
            "Training\n"
          ],
          "name": "stdout"
        },
        {
          "output_type": "stream",
          "text": [
            "77it [00:00, 243.48it/s]                        \n",
            "20it [00:00, 520.99it/s]              \n",
            " 38%|███▊      | 29/76 [00:00<00:00, 287.71it/s]"
          ],
          "name": "stderr"
        },
        {
          "output_type": "stream",
          "text": [
            "Train Loss: 0.169\n",
            "Validating\n",
            "Val Loss: 0.173\n",
            "Training\n"
          ],
          "name": "stdout"
        },
        {
          "output_type": "stream",
          "text": [
            "77it [00:00, 262.72it/s]                        \n",
            "20it [00:00, 588.46it/s]              \n",
            " 38%|███▊      | 29/76 [00:00<00:00, 284.25it/s]"
          ],
          "name": "stderr"
        },
        {
          "output_type": "stream",
          "text": [
            "Train Loss: 0.167\n",
            "Validating\n",
            "Val Loss: 0.171\n",
            "Training\n"
          ],
          "name": "stdout"
        },
        {
          "output_type": "stream",
          "text": [
            "77it [00:00, 265.10it/s]                        \n",
            "20it [00:00, 323.99it/s]              \n",
            " 32%|███▏      | 24/76 [00:00<00:00, 238.31it/s]"
          ],
          "name": "stderr"
        },
        {
          "output_type": "stream",
          "text": [
            "Train Loss: 0.166\n",
            "Validating\n",
            "Val Loss: 0.170\n",
            "Training\n"
          ],
          "name": "stdout"
        },
        {
          "output_type": "stream",
          "text": [
            "77it [00:00, 245.58it/s]                        \n",
            "20it [00:00, 528.76it/s]              \n",
            " 33%|███▎      | 25/76 [00:00<00:00, 246.73it/s]"
          ],
          "name": "stderr"
        },
        {
          "output_type": "stream",
          "text": [
            "Train Loss: 0.165\n",
            "Validating\n",
            "Val Loss: 0.169\n",
            "Training\n"
          ],
          "name": "stdout"
        },
        {
          "output_type": "stream",
          "text": [
            "77it [00:00, 253.58it/s]                        \n",
            "20it [00:00, 555.64it/s]              \n",
            " 37%|███▋      | 28/76 [00:00<00:00, 277.29it/s]"
          ],
          "name": "stderr"
        },
        {
          "output_type": "stream",
          "text": [
            "Train Loss: 0.164\n",
            "Validating\n",
            "Val Loss: 0.169\n",
            "Training\n"
          ],
          "name": "stdout"
        },
        {
          "output_type": "stream",
          "text": [
            "77it [00:00, 249.73it/s]\n",
            "20it [00:00, 525.26it/s]              \n",
            " 38%|███▊      | 29/76 [00:00<00:00, 282.63it/s]"
          ],
          "name": "stderr"
        },
        {
          "output_type": "stream",
          "text": [
            "Train Loss: 0.163\n",
            "Validating\n",
            "Val Loss: 0.168\n",
            "Training\n"
          ],
          "name": "stdout"
        },
        {
          "output_type": "stream",
          "text": [
            "77it [00:00, 260.87it/s]                        \n",
            "20it [00:00, 558.42it/s]              \n",
            " 33%|███▎      | 25/76 [00:00<00:00, 248.39it/s]"
          ],
          "name": "stderr"
        },
        {
          "output_type": "stream",
          "text": [
            "Train Loss: 0.161\n",
            "Validating\n",
            "Val Loss: 0.167\n",
            "Training\n"
          ],
          "name": "stdout"
        },
        {
          "output_type": "stream",
          "text": [
            "77it [00:00, 262.72it/s]                        \n",
            "20it [00:00, 462.50it/s]              \n",
            " 33%|███▎      | 25/76 [00:00<00:00, 246.34it/s]"
          ],
          "name": "stderr"
        },
        {
          "output_type": "stream",
          "text": [
            "Train Loss: 0.161\n",
            "Validating\n",
            "Val Loss: 0.166\n",
            "Training\n"
          ],
          "name": "stdout"
        },
        {
          "output_type": "stream",
          "text": [
            "77it [00:00, 241.70it/s]                        \n",
            "20it [00:00, 586.95it/s]              \n",
            " 36%|███▌      | 27/76 [00:00<00:00, 266.93it/s]"
          ],
          "name": "stderr"
        },
        {
          "output_type": "stream",
          "text": [
            "Train Loss: 0.159\n",
            "Validating\n",
            "Val Loss: 0.165\n",
            "Training\n"
          ],
          "name": "stdout"
        },
        {
          "output_type": "stream",
          "text": [
            "77it [00:00, 234.56it/s]                        \n",
            "20it [00:00, 527.95it/s]              \n",
            " 37%|███▋      | 28/76 [00:00<00:00, 278.61it/s]"
          ],
          "name": "stderr"
        },
        {
          "output_type": "stream",
          "text": [
            "Train Loss: 0.158\n",
            "Validating\n",
            "Val Loss: 0.163\n",
            "Training\n"
          ],
          "name": "stdout"
        },
        {
          "output_type": "stream",
          "text": [
            "77it [00:00, 256.64it/s]                        \n",
            "20it [00:00, 426.58it/s]              \n",
            " 34%|███▍      | 26/76 [00:00<00:00, 257.07it/s]"
          ],
          "name": "stderr"
        },
        {
          "output_type": "stream",
          "text": [
            "Train Loss: 0.157\n",
            "Validating\n",
            "Val Loss: 0.164\n",
            "Training\n"
          ],
          "name": "stdout"
        },
        {
          "output_type": "stream",
          "text": [
            "77it [00:00, 246.98it/s]                        \n",
            "20it [00:00, 450.67it/s]              \n",
            " 36%|███▌      | 27/76 [00:00<00:00, 266.57it/s]"
          ],
          "name": "stderr"
        },
        {
          "output_type": "stream",
          "text": [
            "Train Loss: 0.157\n",
            "Validating\n",
            "Val Loss: 0.162\n",
            "Training\n"
          ],
          "name": "stdout"
        },
        {
          "output_type": "stream",
          "text": [
            "77it [00:00, 243.65it/s]                        \n",
            "20it [00:00, 533.78it/s]              \n",
            " 37%|███▋      | 28/76 [00:00<00:00, 276.50it/s]"
          ],
          "name": "stderr"
        },
        {
          "output_type": "stream",
          "text": [
            "Train Loss: 0.155\n",
            "Validating\n",
            "Val Loss: 0.161\n",
            "Training\n"
          ],
          "name": "stdout"
        },
        {
          "output_type": "stream",
          "text": [
            "77it [00:00, 240.79it/s]                        \n",
            "20it [00:00, 553.41it/s]              "
          ],
          "name": "stderr"
        },
        {
          "output_type": "stream",
          "text": [
            "Train Loss: 0.154\n",
            "Validating\n",
            "Val Loss: 0.161\n",
            "0.298 minutes\n"
          ],
          "name": "stdout"
        },
        {
          "output_type": "stream",
          "text": [
            "\n"
          ],
          "name": "stderr"
        }
      ]
    },
    {
      "cell_type": "markdown",
      "metadata": {
        "id": "AJZXL2C6bt7N"
      },
      "source": [
        "# Results:"
      ]
    },
    {
      "cell_type": "code",
      "metadata": {
        "id": "RWo9suGwzUrw",
        "colab": {
          "base_uri": "https://localhost:8080/",
          "height": 408
        },
        "outputId": "d63f4a70-a072-41b7-f134-6b6e2a419c34"
      },
      "source": [
        "plt.plot(train_loss1, label='Train')\n",
        "plt.plot(val_loss1, label='Valid')\n",
        "plt.legend(loc='upper right')\n",
        "plt.title('Model loss')\n",
        "plt.ylabel('Loss')\n",
        "plt.xlabel('Epoch')\n",
        "plt.show()"
      ],
      "execution_count": 23,
      "outputs": [
        {
          "output_type": "display_data",
          "data": {
            "image/png": "[encoded data removed]",
            "text/plain": [
              "<Figure size 576x432 with 1 Axes>"
            ]
          },
          "metadata": {
            "tags": []
          }
        }
      ]
    },
    {
      "cell_type": "markdown",
      "metadata": {
        "id": "eraaU3jKZUPz"
      },
      "source": [
        "### Precision and Recall:"
      ]
    },
    {
      "cell_type": "code",
      "metadata": {
        "id": "phf7R5d6Y1hU"
      },
      "source": [
        "# then put it on the GPU, make it float and insert a fake batch dimension\n",
        "valid_value1 = torch.tensor(df_valid_x_rescaled).to(device)\n",
        "valid_value1 = valid_value1.double()\n",
        "valid_value1 = valid_value1.unsqueeze(0)\n",
        "\n",
        "# pass it through the model\n",
        "prediction_valid1 = model1(valid_value1)\n",
        "\n",
        "# get the result out and reshape it\n",
        "cpu_pred_valid1 = prediction_valid1.cpu()\n",
        "valid_x_predictions_valid1 = cpu_pred_valid1.data.numpy()"
      ],
      "execution_count": 24,
      "outputs": []
    },
    {
      "cell_type": "code",
      "metadata": {
        "colab": {
          "base_uri": "https://localhost:8080/",
          "height": 465
        },
        "id": "uqq6umrlY1fM",
        "outputId": "7be9a809-b029-4bed-b005-477445dc5299"
      },
      "source": [
        "#valid_x_predictions_valid = model3(df_valid_x_rescaled)\n",
        "mse1 = np.mean(np.power(df_valid_x_rescaled - valid_x_predictions_valid1[0], 2), axis=1)\n",
        "error_df1 = pd.DataFrame({'Reconstruction_error': mse1,\n",
        "                        'True_class': df_valid['y']})\n",
        "\n",
        "precision_rt1, recall_rt1, threshold_rt1 = precision_recall_curve(error_df1.True_class, error_df1.Reconstruction_error)\n",
        "#plt.xlim([-0.01, 1])\n",
        "plt.plot(threshold_rt1, precision_rt1[1:], label=\"Precision\",linewidth=1)\n",
        "plt.plot(threshold_rt1, recall_rt1[1:], label=\"Recall\",linewidth=1)\n",
        "plt.title('Precision and recall for different threshold values (MSE)')\n",
        "plt.xlabel('Threshold')\n",
        "plt.ylabel('Precision/Recall')\n",
        "plt.legend()\n",
        "ax = plt.axes()\n",
        "# Setting the background color\n",
        "ax.spines['bottom'].set_color('gray')\n",
        "ax.spines['left'].set_color('gray')\n",
        "ax.spines['top'].set_color('gray')\n",
        "ax.spines['right'].set_color('gray')\n",
        "ax.set_facecolor(\"white\")\n",
        "plt.show()"
      ],
      "execution_count": 25,
      "outputs": [
        {
          "output_type": "stream",
          "text": [
            "/usr/local/lib/python3.7/dist-packages/ipykernel_launcher.py:14: MatplotlibDeprecationWarning: Adding an axes using the same arguments as a previous axes currently reuses the earlier instance.  In a future version, a new instance will always be created and returned.  Meanwhile, this warning can be suppressed, and the future behavior ensured, by passing a unique label to each axes instance.\n",
            "  \n"
          ],
          "name": "stderr"
        },
        {
          "output_type": "display_data",
          "data": {
            "image/png": "[encoded data removed]",
            "text/plain": [
              "<Figure size 576x432 with 1 Axes>"
            ]
          },
          "metadata": {
            "tags": []
          }
        }
      ]
    },
    {
      "cell_type": "code",
      "metadata": {
        "id": "xSYjef2YY1ct"
      },
      "source": [
        ""
      ],
      "execution_count": 25,
      "outputs": []
    },
    {
      "cell_type": "markdown",
      "metadata": {
        "id": "RLR4oTdmuy3a"
      },
      "source": [
        "### Class Division:"
      ]
    },
    {
      "cell_type": "code",
      "metadata": {
        "id": "LHMpAi6qW-jA"
      },
      "source": [
        "# then put it on the GPU, make it float and insert a fake batch dimension\n",
        "test_value1 = torch.tensor(df_test_x_rescaled).to(device)\n",
        "test_value1 = test_value1.double()\n",
        "#test_value = test_value.unsqueeze(0)\n",
        "\n",
        "# pass it through the model\n",
        "prediction1 = model1(test_value1)\n",
        "\n",
        "# get the result out and reshape it\n",
        "cpu_pred1 = prediction1.cpu()\n",
        "test_x_predictions1 = cpu_pred1.data.numpy()"
      ],
      "execution_count": 26,
      "outputs": []
    },
    {
      "cell_type": "code",
      "metadata": {
        "id": "2zbF6W9-j9vL"
      },
      "source": [
        "#test_x_predictions = autoencoder.predict(df_test_x_rescaled)\n",
        "mse1 = np.mean(np.power(df_test_x_rescaled - test_x_predictions1, 2), axis=1)\n",
        "error_df_test1 = pd.DataFrame({'Reconstruction_error': mse1,\n",
        "                        'True_class': df_test['y']})\n",
        "error_df_test1 = error_df_test1.reset_index()"
      ],
      "execution_count": 27,
      "outputs": []
    },
    {
      "cell_type": "code",
      "metadata": {
        "colab": {
          "base_uri": "https://localhost:8080/",
          "height": 408
        },
        "id": "5truHuZ9j94M",
        "outputId": "27b994f3-28d3-4851-e2c2-111ef3b9d5e6"
      },
      "source": [
        "threshold_fixed1 = 0.5\n",
        "groups = error_df_test1.groupby('True_class')\n",
        "\n",
        "fig, ax = plt.subplots()\n",
        "ax.spines['bottom'].set_color('black')\n",
        "ax.spines['left'].set_color('black')\n",
        "ax.set_facecolor(\"white\")\n",
        "for name, group in groups:\n",
        "    ax.plot(group.index, group.Reconstruction_error, marker='o', ms=3.5, linestyle='',\n",
        "            label= \"Break\" if name == 1 else \"Normal\")\n",
        "ax.hlines(threshold_fixed1, ax.get_xlim()[0], ax.get_xlim()[1], colors=\"r\", zorder=100, label='Threshold')\n",
        "ax.legend()\n",
        "plt.title(\"Reconstruction error for different classes (MSE)\")\n",
        "plt.ylabel(\"Reconstruction error\")\n",
        "\n",
        "plt.xlabel(\"Data point index\")\n",
        "\n",
        "plt.show()"
      ],
      "execution_count": 28,
      "outputs": [
        {
          "output_type": "display_data",
          "data": {
            "image/png": "[encoded data removed]",
            "text/plain": [
              "<Figure size 576x432 with 1 Axes>"
            ]
          },
          "metadata": {
            "tags": []
          }
        }
      ]
    },
    {
      "cell_type": "code",
      "metadata": {
        "id": "be_ImthrY1ae"
      },
      "source": [
        ""
      ],
      "execution_count": 28,
      "outputs": []
    },
    {
      "cell_type": "markdown",
      "metadata": {
        "id": "C6vDBzmlvtlM"
      },
      "source": [
        "### Confusion Matrix:"
      ]
    },
    {
      "cell_type": "code",
      "metadata": {
        "id": "Q20nnIIskUzt"
      },
      "source": [
        "pred_y1 = [1 if e > threshold_fixed1 else 0 for e in error_df1.Reconstruction_error.values]"
      ],
      "execution_count": 29,
      "outputs": []
    },
    {
      "cell_type": "code",
      "metadata": {
        "id": "gj5b747skU-B"
      },
      "source": [
        "predictions1 = pd.DataFrame({'true': error_df1.True_class,\n",
        "                           'predicted': pred_y1})"
      ],
      "execution_count": 30,
      "outputs": []
    },
    {
      "cell_type": "code",
      "metadata": {
        "colab": {
          "base_uri": "https://localhost:8080/",
          "height": 517
        },
        "id": "BafXZSQEkU7C",
        "outputId": "47a2267e-edbb-45e6-f235-9de1d4bfda50"
      },
      "source": [
        "conf_matrix = confusion_matrix(error_df1.True_class, pred_y1)\n",
        "plt.figure(figsize=(8, 8))\n",
        "sns.heatmap(conf_matrix, xticklabels=LABELS, yticklabels=LABELS, annot=True, fmt='d', cmap='Blues', annot_kws={\"size\":20});\n",
        "plt.title(\"Confusion matrix (MSE)\")\n",
        "plt.ylabel('True class')\n",
        "plt.xlabel('Predicted class')\n",
        "plt.show()"
      ],
      "execution_count": 31,
      "outputs": [
        {
          "output_type": "display_data",
          "data": {
            "image/png": "[encoded data removed]",
            "text/plain": [
              "<Figure size 576x576 with 2 Axes>"
            ]
          },
          "metadata": {
            "tags": []
          }
        }
      ]
    },
    {
      "cell_type": "markdown",
      "metadata": {
        "id": "rmPcBjo2ZLCr"
      },
      "source": [
        "### ROC:"
      ]
    },
    {
      "cell_type": "code",
      "metadata": {
        "id": "1-_J1dihkU40",
        "colab": {
          "base_uri": "https://localhost:8080/",
          "height": 465
        },
        "outputId": "1fc51c4a-fb4d-4c91-de41-bfa871551322"
      },
      "source": [
        "false_pos_rate1, true_pos_rate1, thresholds1 = roc_curve(error_df1.True_class, error_df1.Reconstruction_error)\n",
        "roc_auc1 = auc(false_pos_rate1, true_pos_rate1,)\n",
        "\n",
        "plt.plot(false_pos_rate1, true_pos_rate1,'r', linewidth=5, label='AUC = %0.3f'% roc_auc1)\n",
        "plt.plot([0,1],[0,1],'b', linewidth=5)\n",
        "\n",
        "plt.xlim([-0.01, 1])\n",
        "plt.ylim([0, 1.01])\n",
        "plt.legend(loc='lower right')\n",
        "plt.title('Receiver operating characteristic curve (ROC) (MSE)')\n",
        "plt.ylabel('True Positive Rate')\n",
        "plt.xlabel('False Positive Rate')\n",
        "ax = plt.axes()\n",
        "# Setting the background color\n",
        "ax.spines['bottom'].set_color('black')\n",
        "ax.spines['left'].set_color('black')\n",
        "ax.set_facecolor(\"white\")\n",
        "plt.show()"
      ],
      "execution_count": 32,
      "outputs": [
        {
          "output_type": "stream",
          "text": [
            "/usr/local/lib/python3.7/dist-packages/ipykernel_launcher.py:13: MatplotlibDeprecationWarning: Adding an axes using the same arguments as a previous axes currently reuses the earlier instance.  In a future version, a new instance will always be created and returned.  Meanwhile, this warning can be suppressed, and the future behavior ensured, by passing a unique label to each axes instance.\n",
            "  del sys.path[0]\n"
          ],
          "name": "stderr"
        },
        {
          "output_type": "display_data",
          "data": {
            "image/png": "[encoded data removed]",
            "text/plain": [
              "<Figure size 576x432 with 1 Axes>"
            ]
          },
          "metadata": {
            "tags": []
          }
        }
      ]
    },
    {
      "cell_type": "code",
      "metadata": {
        "id": "-wufJlJcV6cQ"
      },
      "source": [
        ""
      ],
      "execution_count": 32,
      "outputs": []
    }
  ]
}